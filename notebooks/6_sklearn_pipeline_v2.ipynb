{
 "cells": [
  {
   "cell_type": "code",
   "execution_count": 5,
   "metadata": {},
   "outputs": [],
   "source": [
    "import pickle\n",
    "import pandas as pd\n",
    "import os\n",
    "import configparser\n",
    "\n",
    "from feature_engine.imputation import MeanMedianImputer\n",
    "from feature_engine.selection import DropFeatures\n",
    "from sklearn.model_selection import train_test_split\n",
    "from sklearn.pipeline import Pipeline\n",
    "from sklearn.preprocessing import MinMaxScaler"
   ]
  },
  {
   "cell_type": "code",
   "execution_count": 11,
   "metadata": {},
   "outputs": [
    {
     "data": {
      "text/plain": [
       "['c:\\\\Users\\\\USUARIO\\\\Documents\\\\2024\\\\PAPD\\\\4 Product Development\\\\diabetes-model\\\\diabetes-classification\\\\pipeline.cfg']"
      ]
     },
     "execution_count": 11,
     "metadata": {},
     "output_type": "execute_result"
    }
   ],
   "source": [
    "project_path = os.path.dirname(os.getcwd())\n",
    "\n",
    "    # leemos del configparser.\n",
    "config = configparser.ConfigParser()\n",
    "config.read(os.path.join(project_path, \"pipeline.cfg\"))\n"
   ]
  },
  {
   "cell_type": "code",
   "execution_count": 12,
   "metadata": {},
   "outputs": [],
   "source": [
    "# Creación del pipeline\n",
    "diabetes_predict_pipeline = Pipeline([\n",
    "        # eliminamos variables que no usaremos.\n",
    "        ('delete_features', DropFeatures(features_to_drop=config.get('GENERAL', 'vars_to_drop').split(','))),\n",
    "\n",
    "        # Imputación de variables continuas\n",
    "        ('continuous_var_mean_imputation', MeanMedianImputer(imputation_method='mean', variables=config.get('CONTINUES', 'vars_to_impute').split(','))),\n",
    "\n",
    "        # Estandarización de variables\n",
    "        (\"feature_scaling\", MinMaxScaler())\n",
    "    ])"
   ]
  },
  {
   "cell_type": "code",
   "execution_count": 13,
   "metadata": {},
   "outputs": [],
   "source": [
    "# Guardamos el pipeline\n",
    "with open(os.path.join(project_path, 'artifacts', 'pipeline.pkl'), 'wb') as f:\n",
    "    pickle.dump(diabetes_predict_pipeline, f)"
   ]
  }
 ],
 "metadata": {
  "kernelspec": {
   "display_name": "venv-diabetes-model",
   "language": "python",
   "name": "python3"
  },
  "language_info": {
   "codemirror_mode": {
    "name": "ipython",
    "version": 3
   },
   "file_extension": ".py",
   "mimetype": "text/x-python",
   "name": "python",
   "nbconvert_exporter": "python",
   "pygments_lexer": "ipython3",
   "version": "3.12.7"
  }
 },
 "nbformat": 4,
 "nbformat_minor": 2
}
