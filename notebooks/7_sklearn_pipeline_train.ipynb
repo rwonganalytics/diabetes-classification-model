{
 "cells": [
  {
   "cell_type": "code",
   "execution_count": 4,
   "metadata": {},
   "outputs": [],
   "source": [
    "import os\n",
    "import pandas as pd\n",
    "import pickle\n",
    "import mlflow\n",
    "\n",
    "from sklearn.metrics import accuracy_score\n",
    "from sklearn.model_selection import train_test_split\n",
    "from sklearn.ensemble import RandomForestClassifier\n",
    "from sklearn.linear_model import LogisticRegression\n",
    "from sklearn.ensemble import GradientBoostingClassifier\n",
    "from sklearn.neighbors import KNeighborsClassifier\n",
    "from sklearn.svm import SVC"
   ]
  },
  {
   "cell_type": "code",
   "execution_count": 5,
   "metadata": {},
   "outputs": [],
   "source": [
    "project_path = os.path.dirname(os.getcwd())"
   ]
  },
  {
   "cell_type": "code",
   "execution_count": 19,
   "metadata": {},
   "outputs": [
    {
     "data": {
      "text/html": [
       "<div>\n",
       "<style scoped>\n",
       "    .dataframe tbody tr th:only-of-type {\n",
       "        vertical-align: middle;\n",
       "    }\n",
       "\n",
       "    .dataframe tbody tr th {\n",
       "        vertical-align: top;\n",
       "    }\n",
       "\n",
       "    .dataframe thead th {\n",
       "        text-align: right;\n",
       "    }\n",
       "</style>\n",
       "<table border=\"1\" class=\"dataframe\">\n",
       "  <thead>\n",
       "    <tr style=\"text-align: right;\">\n",
       "      <th></th>\n",
       "      <th>Pregnancies</th>\n",
       "      <th>Glucose</th>\n",
       "      <th>BloodPressure</th>\n",
       "      <th>SkinThickness</th>\n",
       "      <th>Insulin</th>\n",
       "      <th>BMI</th>\n",
       "      <th>DiabetesPedigreeFunction</th>\n",
       "      <th>Age</th>\n",
       "      <th>Outcome</th>\n",
       "    </tr>\n",
       "  </thead>\n",
       "  <tbody>\n",
       "    <tr>\n",
       "      <th>0</th>\n",
       "      <td>6</td>\n",
       "      <td>148</td>\n",
       "      <td>72</td>\n",
       "      <td>35</td>\n",
       "      <td>0</td>\n",
       "      <td>33.6</td>\n",
       "      <td>0.627</td>\n",
       "      <td>50</td>\n",
       "      <td>1</td>\n",
       "    </tr>\n",
       "    <tr>\n",
       "      <th>1</th>\n",
       "      <td>1</td>\n",
       "      <td>85</td>\n",
       "      <td>66</td>\n",
       "      <td>29</td>\n",
       "      <td>0</td>\n",
       "      <td>26.6</td>\n",
       "      <td>0.351</td>\n",
       "      <td>31</td>\n",
       "      <td>0</td>\n",
       "    </tr>\n",
       "    <tr>\n",
       "      <th>2</th>\n",
       "      <td>8</td>\n",
       "      <td>183</td>\n",
       "      <td>64</td>\n",
       "      <td>0</td>\n",
       "      <td>0</td>\n",
       "      <td>23.3</td>\n",
       "      <td>0.672</td>\n",
       "      <td>32</td>\n",
       "      <td>1</td>\n",
       "    </tr>\n",
       "    <tr>\n",
       "      <th>3</th>\n",
       "      <td>1</td>\n",
       "      <td>89</td>\n",
       "      <td>66</td>\n",
       "      <td>23</td>\n",
       "      <td>94</td>\n",
       "      <td>28.1</td>\n",
       "      <td>0.167</td>\n",
       "      <td>21</td>\n",
       "      <td>0</td>\n",
       "    </tr>\n",
       "    <tr>\n",
       "      <th>4</th>\n",
       "      <td>0</td>\n",
       "      <td>137</td>\n",
       "      <td>40</td>\n",
       "      <td>35</td>\n",
       "      <td>168</td>\n",
       "      <td>43.1</td>\n",
       "      <td>2.288</td>\n",
       "      <td>33</td>\n",
       "      <td>1</td>\n",
       "    </tr>\n",
       "  </tbody>\n",
       "</table>\n",
       "</div>"
      ],
      "text/plain": [
       "   Pregnancies  Glucose  BloodPressure  SkinThickness  Insulin   BMI  \\\n",
       "0            6      148             72             35        0  33.6   \n",
       "1            1       85             66             29        0  26.6   \n",
       "2            8      183             64              0        0  23.3   \n",
       "3            1       89             66             23       94  28.1   \n",
       "4            0      137             40             35      168  43.1   \n",
       "\n",
       "   DiabetesPedigreeFunction  Age  Outcome  \n",
       "0                     0.627   50        1  \n",
       "1                     0.351   31        0  \n",
       "2                     0.672   32        1  \n",
       "3                     0.167   21        0  \n",
       "4                     2.288   33        1  "
      ]
     },
     "execution_count": 19,
     "metadata": {},
     "output_type": "execute_result"
    }
   ],
   "source": [
    "dataset = pd.read_csv(os.path.join(project_path, \"data\", \"raw\", \"diabetes.csv\"))\n",
    "dataset.head()"
   ]
  },
  {
   "cell_type": "code",
   "execution_count": 59,
   "metadata": {},
   "outputs": [],
   "source": [
    "# configuración del Pipeline\n",
    "target = 'Outcome'\n",
    "vars_to_drop = ['SkinThickness', 'Insulin', 'Outcome']\n",
    "vars_to_impute = ['Glucose', 'BloodPressure', 'BMI']\n",
    "mflow_url = 'http://127.0.0.1:5000'"
   ]
  },
  {
   "cell_type": "code",
   "execution_count": null,
   "metadata": {},
   "outputs": [],
   "source": [
    "x_features = dataset\n",
    "y_target = dataset[target]\n",
    "\n",
    "x_train, x_test, y_train, y_test = train_test_split(x_features, y_target, test_size=0.2, shuffle=True, random_state=42)"
   ]
  },
  {
   "cell_type": "code",
   "execution_count": 67,
   "metadata": {},
   "outputs": [],
   "source": [
    "# cargamos el pipeline previamente definido.\n",
    "with open(os.path.join(project_path, 'artifacts', 'pipeline.pkl'), 'rb') as f:\n",
    "        diabetes_predict_model = pickle.load(f)"
   ]
  },
  {
   "cell_type": "code",
   "execution_count": null,
   "metadata": {},
   "outputs": [],
   "source": [
    "# dataset de entrenamiento.\n",
    "x_features_train = diabetes_predict_model.fit_transform(x_train)\n",
    "col_names = list(set(x_train.columns).difference(set(vars_to_drop)))\n",
    "\n",
    "# dataset para seleccion de modelo según métrica.\n",
    "x_features_test = diabetes_predict_model.transform(x_test)\n",
    "col_names = list(set(x_train.columns).difference(set(vars_to_drop)))"
   ]
  },
  {
   "cell_type": "code",
   "execution_count": 60,
   "metadata": {},
   "outputs": [
    {
     "name": "stderr",
     "output_type": "stream",
     "text": [
      "2024/12/18 03:25:14 INFO mlflow.tracking.fluent: Experiment with name 'Diabetes Predict Model' does not exist. Creating a new experiment.\n"
     ]
    },
    {
     "data": {
      "text/plain": [
       "<Experiment: artifact_location='mlflow-artifacts:/304865332183066859', creation_time=1734513914599, experiment_id='304865332183066859', last_update_time=1734513914599, lifecycle_stage='active', name='Diabetes Predict Model', tags={}>"
      ]
     },
     "execution_count": 60,
     "metadata": {},
     "output_type": "execute_result"
    }
   ],
   "source": [
    "mlflow.set_tracking_uri(mflow_url)\n",
    "mlflow.set_experiment('Diabetes Predict Model')"
   ]
  },
  {
   "cell_type": "code",
   "execution_count": 61,
   "metadata": {},
   "outputs": [],
   "source": [
    "# Definición de modelos y parámetros\n",
    "models_and_params = {\n",
    "    \"Model 1\": {\n",
    "        \"model\": GradientBoostingClassifier(n_estimators=100, learning_rate=0.1, random_state=42),\n",
    "        \"params\": {\"n_estimators\": 100, \"learning_rate\": 0.1}\n",
    "    },\n",
    "    \"Model 2\": {\n",
    "        \"model\": GradientBoostingClassifier(n_estimators=50, learning_rate=0.1, random_state=42),\n",
    "        \"params\": {\"n_estimators\": 50, \"learning_rate\": 0.1}\n",
    "    },\n",
    "    \"Model 3\": {\n",
    "        \"model\": GradientBoostingClassifier(n_estimators=25, learning_rate=0.05, random_state=42),\n",
    "        \"params\": {\"n_estimators\": 25, \"learning_rate\": 0.05}\n",
    "    }, \n",
    "    \"Model 4\": {\n",
    "        \"model\": KNeighborsClassifier(n_neighbors=3),\n",
    "        \"params\": {\"n_neighbors\": 3}\n",
    "    },\n",
    "    \"Model 5\": {\n",
    "        \"model\": KNeighborsClassifier(n_neighbors=5),\n",
    "        \"params\": {\"n_neighbors\": 5}\n",
    "    },\n",
    "    \"Model 6\": {\n",
    "        \"model\": KNeighborsClassifier(n_neighbors=2),\n",
    "        \"params\": {\"n_neighbors\": 2}\n",
    "    },\n",
    "    \"Model 7\": {\n",
    "        \"model\": LogisticRegression(random_state=42, solver='lbfgs', max_iter=100),\n",
    "        \"params\": {\"solver\": \"lbfgs\", \"max_iter\": 100}\n",
    "    },\n",
    "    \"Model 8\": {\n",
    "        \"model\": LogisticRegression(random_state=42, solver='lbfgs', max_iter=200),\n",
    "        \"params\": {\"solver\": \"lbfgs\", \"max_iter\": 200}\n",
    "    },\n",
    "    \"Model 9\": {\n",
    "        \"model\": LogisticRegression(random_state=42, solver='liblinear', max_iter=100),\n",
    "        \"params\": {\"solver\": \"liblinear\", \"max_iter\": 100}\n",
    "    }, \n",
    "    \"Model 10\": {\n",
    "        \"model\": RandomForestClassifier(n_estimators=100, max_depth=None, random_state=42),\n",
    "        \"params\": {\"n_estimators\": 100, \"max_depth\": None}\n",
    "    },\n",
    "    \"Model 11\": {\n",
    "        \"model\": RandomForestClassifier(n_estimators=200, max_depth=None, random_state=42),\n",
    "        \"params\": {\"n_estimators\": 200, \"max_depth\": None}\n",
    "    },\n",
    "    \"Model 12\": {\n",
    "        \"model\": RandomForestClassifier(n_estimators=100, max_depth=10, random_state=42),\n",
    "        \"params\": {\"n_estimators\": 100, \"max_depth\": 10}\n",
    "    }, \n",
    "    \"Model 13\": {\n",
    "        \"model\": SVC(kernel='linear', random_state=42),\n",
    "        \"params\": {\"kernel\": \"linear\"}\n",
    "    },\n",
    "    \"Model 14\": {\n",
    "        \"model\": SVC(kernel='rbf', random_state=42),\n",
    "        \"params\": {\"kernel\": \"rbf\"}\n",
    "    },\n",
    "    \"Model 15\": {\n",
    "        \"model\": SVC(kernel='poly', random_state=42),\n",
    "        \"params\": {\"kernel\": \"poly\"}\n",
    "    }\n",
    "}"
   ]
  },
  {
   "cell_type": "code",
   "execution_count": 62,
   "metadata": {},
   "outputs": [
    {
     "name": "stderr",
     "output_type": "stream",
     "text": [
      "2024/12/18 03:26:19 WARNING mlflow.models.model: Model logged without a signature and input example. Please set `input_example` parameter when logging the model to auto infer the model signature.\n"
     ]
    },
    {
     "name": "stdout",
     "output_type": "stream",
     "text": [
      "🏃 View run Model 1 at: http://127.0.0.1:5000/#/experiments/304865332183066859/runs/0f6d4cd7946a4d4b9874824ac821ed63\n",
      "🧪 View experiment at: http://127.0.0.1:5000/#/experiments/304865332183066859\n"
     ]
    },
    {
     "name": "stderr",
     "output_type": "stream",
     "text": [
      "2024/12/18 03:26:38 WARNING mlflow.models.model: Model logged without a signature and input example. Please set `input_example` parameter when logging the model to auto infer the model signature.\n"
     ]
    },
    {
     "name": "stdout",
     "output_type": "stream",
     "text": [
      "🏃 View run Model 2 at: http://127.0.0.1:5000/#/experiments/304865332183066859/runs/fc31f5b7383c47f8b8d24efbb2083867\n",
      "🧪 View experiment at: http://127.0.0.1:5000/#/experiments/304865332183066859\n"
     ]
    },
    {
     "name": "stderr",
     "output_type": "stream",
     "text": [
      "2024/12/18 03:26:54 WARNING mlflow.models.model: Model logged without a signature and input example. Please set `input_example` parameter when logging the model to auto infer the model signature.\n"
     ]
    },
    {
     "name": "stdout",
     "output_type": "stream",
     "text": [
      "🏃 View run Model 3 at: http://127.0.0.1:5000/#/experiments/304865332183066859/runs/b1ef1a300b974eb6a6409df3ecc344a8\n",
      "🧪 View experiment at: http://127.0.0.1:5000/#/experiments/304865332183066859\n"
     ]
    },
    {
     "name": "stderr",
     "output_type": "stream",
     "text": [
      "2024/12/18 03:27:08 WARNING mlflow.models.model: Model logged without a signature and input example. Please set `input_example` parameter when logging the model to auto infer the model signature.\n"
     ]
    },
    {
     "name": "stdout",
     "output_type": "stream",
     "text": [
      "🏃 View run Model 4 at: http://127.0.0.1:5000/#/experiments/304865332183066859/runs/29a12f14cf3b4a7b84ae1f7e14454daa\n",
      "🧪 View experiment at: http://127.0.0.1:5000/#/experiments/304865332183066859\n"
     ]
    },
    {
     "name": "stderr",
     "output_type": "stream",
     "text": [
      "2024/12/18 03:27:23 WARNING mlflow.models.model: Model logged without a signature and input example. Please set `input_example` parameter when logging the model to auto infer the model signature.\n"
     ]
    },
    {
     "name": "stdout",
     "output_type": "stream",
     "text": [
      "🏃 View run Model 5 at: http://127.0.0.1:5000/#/experiments/304865332183066859/runs/7ffe7fa9fe7e4dbcb9b577b424de74c5\n",
      "🧪 View experiment at: http://127.0.0.1:5000/#/experiments/304865332183066859\n"
     ]
    },
    {
     "name": "stderr",
     "output_type": "stream",
     "text": [
      "2024/12/18 03:27:40 WARNING mlflow.models.model: Model logged without a signature and input example. Please set `input_example` parameter when logging the model to auto infer the model signature.\n"
     ]
    },
    {
     "name": "stdout",
     "output_type": "stream",
     "text": [
      "🏃 View run Model 6 at: http://127.0.0.1:5000/#/experiments/304865332183066859/runs/24892364c6a140c0a8d8f10a654966eb\n",
      "🧪 View experiment at: http://127.0.0.1:5000/#/experiments/304865332183066859\n"
     ]
    },
    {
     "name": "stderr",
     "output_type": "stream",
     "text": [
      "2024/12/18 03:27:55 WARNING mlflow.models.model: Model logged without a signature and input example. Please set `input_example` parameter when logging the model to auto infer the model signature.\n"
     ]
    },
    {
     "name": "stdout",
     "output_type": "stream",
     "text": [
      "🏃 View run Model 7 at: http://127.0.0.1:5000/#/experiments/304865332183066859/runs/5ad82c61c56f48eca04d5268cdc856fd\n",
      "🧪 View experiment at: http://127.0.0.1:5000/#/experiments/304865332183066859\n"
     ]
    },
    {
     "name": "stderr",
     "output_type": "stream",
     "text": [
      "2024/12/18 03:28:09 WARNING mlflow.models.model: Model logged without a signature and input example. Please set `input_example` parameter when logging the model to auto infer the model signature.\n"
     ]
    },
    {
     "name": "stdout",
     "output_type": "stream",
     "text": [
      "🏃 View run Model 8 at: http://127.0.0.1:5000/#/experiments/304865332183066859/runs/8c47d62c3ddf491eb78e45d100b7c9dd\n",
      "🧪 View experiment at: http://127.0.0.1:5000/#/experiments/304865332183066859\n"
     ]
    },
    {
     "name": "stderr",
     "output_type": "stream",
     "text": [
      "2024/12/18 03:28:23 WARNING mlflow.models.model: Model logged without a signature and input example. Please set `input_example` parameter when logging the model to auto infer the model signature.\n"
     ]
    },
    {
     "name": "stdout",
     "output_type": "stream",
     "text": [
      "🏃 View run Model 9 at: http://127.0.0.1:5000/#/experiments/304865332183066859/runs/bac7c4e18a5848c4bdc8193aea885404\n",
      "🧪 View experiment at: http://127.0.0.1:5000/#/experiments/304865332183066859\n"
     ]
    },
    {
     "name": "stderr",
     "output_type": "stream",
     "text": [
      "2024/12/18 03:28:37 WARNING mlflow.models.model: Model logged without a signature and input example. Please set `input_example` parameter when logging the model to auto infer the model signature.\n"
     ]
    },
    {
     "name": "stdout",
     "output_type": "stream",
     "text": [
      "🏃 View run Model 10 at: http://127.0.0.1:5000/#/experiments/304865332183066859/runs/e976b074165447598767e79df82c2542\n",
      "🧪 View experiment at: http://127.0.0.1:5000/#/experiments/304865332183066859\n"
     ]
    },
    {
     "name": "stderr",
     "output_type": "stream",
     "text": [
      "2024/12/18 03:28:53 WARNING mlflow.models.model: Model logged without a signature and input example. Please set `input_example` parameter when logging the model to auto infer the model signature.\n"
     ]
    },
    {
     "name": "stdout",
     "output_type": "stream",
     "text": [
      "🏃 View run Model 11 at: http://127.0.0.1:5000/#/experiments/304865332183066859/runs/f39b8e8e556f404b9c949c0dfa72ff8d\n",
      "🧪 View experiment at: http://127.0.0.1:5000/#/experiments/304865332183066859\n"
     ]
    },
    {
     "name": "stderr",
     "output_type": "stream",
     "text": [
      "2024/12/18 03:29:14 WARNING mlflow.models.model: Model logged without a signature and input example. Please set `input_example` parameter when logging the model to auto infer the model signature.\n"
     ]
    },
    {
     "name": "stdout",
     "output_type": "stream",
     "text": [
      "🏃 View run Model 12 at: http://127.0.0.1:5000/#/experiments/304865332183066859/runs/176011f867ed46e7af74e947c01358ac\n",
      "🧪 View experiment at: http://127.0.0.1:5000/#/experiments/304865332183066859\n"
     ]
    },
    {
     "name": "stderr",
     "output_type": "stream",
     "text": [
      "2024/12/18 03:29:32 WARNING mlflow.models.model: Model logged without a signature and input example. Please set `input_example` parameter when logging the model to auto infer the model signature.\n"
     ]
    },
    {
     "name": "stdout",
     "output_type": "stream",
     "text": [
      "🏃 View run Model 13 at: http://127.0.0.1:5000/#/experiments/304865332183066859/runs/18b3c5938eaf41d78e4983639c7edab3\n",
      "🧪 View experiment at: http://127.0.0.1:5000/#/experiments/304865332183066859\n"
     ]
    },
    {
     "name": "stderr",
     "output_type": "stream",
     "text": [
      "2024/12/18 03:29:47 WARNING mlflow.models.model: Model logged without a signature and input example. Please set `input_example` parameter when logging the model to auto infer the model signature.\n"
     ]
    },
    {
     "name": "stdout",
     "output_type": "stream",
     "text": [
      "🏃 View run Model 14 at: http://127.0.0.1:5000/#/experiments/304865332183066859/runs/4496f57cb20c43c7bd9a3093413f7cc6\n",
      "🧪 View experiment at: http://127.0.0.1:5000/#/experiments/304865332183066859\n"
     ]
    },
    {
     "name": "stderr",
     "output_type": "stream",
     "text": [
      "2024/12/18 03:30:02 WARNING mlflow.models.model: Model logged without a signature and input example. Please set `input_example` parameter when logging the model to auto infer the model signature.\n"
     ]
    },
    {
     "name": "stdout",
     "output_type": "stream",
     "text": [
      "🏃 View run Model 15 at: http://127.0.0.1:5000/#/experiments/304865332183066859/runs/c75483954c814638abf1951d96d883dd\n",
      "🧪 View experiment at: http://127.0.0.1:5000/#/experiments/304865332183066859\n"
     ]
    }
   ],
   "source": [
    "# array para almacenar accuracy score de cada modelo\n",
    "resultados_acc = []\n",
    "\n",
    "# Iteramos sobre los diferentes modelos\n",
    "for model_name, model_info in models_and_params.items():\n",
    "    with mlflow.start_run(run_name=model_name):\n",
    "        model = model_info[\"model\"]\n",
    "        params = model_info[\"params\"]\n",
    "        \n",
    "        # Entrenamiento del modelo\n",
    "        model.fit(x_features_train, y_train)\n",
    "        \n",
    "        # Predicciones\n",
    "        y_pred = model.predict(x_features_test)\n",
    "        \n",
    "        # Cálculo de métricas\n",
    "        accuracy = accuracy_score(y_test, y_pred)\n",
    "        \n",
    "        # Registro de parámetros, métrica y modelos\n",
    "        mlflow.log_params(params)\n",
    "        mlflow.log_metric(\"accuracy score\", accuracy)\n",
    "        mlflow.sklearn.log_model(model, model_name)\n",
    "\n",
    "        resultados_acc.append({\"model_name\": model_name, \"accuracy_score\": accuracy})\n",
    "        \n",
    "        mlflow.end_run()"
   ]
  },
  {
   "cell_type": "code",
   "execution_count": 63,
   "metadata": {},
   "outputs": [],
   "source": [
    "resultados_acc = pd.DataFrame(resultados_acc)"
   ]
  },
  {
   "cell_type": "code",
   "execution_count": 64,
   "metadata": {},
   "outputs": [],
   "source": [
    "best_model_name = resultados_acc.loc[resultados_acc[\"accuracy_score\"].idxmax()][\"model_name\"]\n",
    "best_model = models_and_params[best_model_name][\"model\"]"
   ]
  },
  {
   "cell_type": "code",
   "execution_count": 68,
   "metadata": {},
   "outputs": [],
   "source": [
    "diabetes_predict_model.steps.append(\n",
    "            ('modelo_prediccion', best_model))"
   ]
  },
  {
   "cell_type": "code",
   "execution_count": 69,
   "metadata": {},
   "outputs": [],
   "source": [
    "# configuración y entrenamiento del modelo final\n",
    "diabetes_predict_model.fit(x_train, y_train)\n",
    "\n",
    "# modelo entrenado y configurado.\n",
    "with open(os.path.join(project_path, 'artifacts', 'trainded_pipeline.pkl'), 'wb') as f:\n",
    "    pickle.dump(diabetes_predict_model, f)"
   ]
  }
 ],
 "metadata": {
  "kernelspec": {
   "display_name": "venv-diabetes-model",
   "language": "python",
   "name": "python3"
  },
  "language_info": {
   "codemirror_mode": {
    "name": "ipython",
    "version": 3
   },
   "file_extension": ".py",
   "mimetype": "text/x-python",
   "name": "python",
   "nbconvert_exporter": "python",
   "pygments_lexer": "ipython3",
   "version": "3.12.7"
  }
 },
 "nbformat": 4,
 "nbformat_minor": 2
}
