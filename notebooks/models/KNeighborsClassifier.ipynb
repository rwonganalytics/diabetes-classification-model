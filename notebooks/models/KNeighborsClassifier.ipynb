{
 "cells": [
  {
   "cell_type": "code",
   "execution_count": 1,
   "metadata": {},
   "outputs": [
    {
     "name": "stdout",
     "output_type": "stream",
     "text": [
      "   Pregnancies   Glucose  BloodPressure       BMI  DiabetesPedigreeFunction  \\\n",
      "0     0.035503 -0.459259      -0.727273 -0.514286                  0.118524   \n",
      "1     0.011834 -0.459259      -0.727273 -0.514286                 -0.051464   \n",
      "2     0.011834 -0.459259      -0.727273 -0.514286                 -0.045436   \n",
      "3     0.047337 -0.459259      -0.727273 -0.514286                  0.375313   \n",
      "4     0.041420 -0.459259      -0.727273 -0.514286                 -0.014091   \n",
      "\n",
      "        Age  Outcome  \n",
      "0 -0.446125      0.0  \n",
      "1 -0.456522      0.0  \n",
      "2 -0.456522      0.0  \n",
      "3 -0.450378      0.0  \n",
      "4 -0.442817      0.0  \n"
     ]
    },
    {
     "name": "stderr",
     "output_type": "stream",
     "text": [
      "c:\\ProgramData\\anaconda3\\Lib\\site-packages\\sklearn\\base.py:347: InconsistentVersionWarning: Trying to unpickle estimator MinMaxScaler from version 1.5.2 when using version 1.3.0. This might lead to breaking code or invalid results. Use at your own risk. For more info please refer to:\n",
      "https://scikit-learn.org/stable/model_persistence.html#security-maintainability-limitations\n",
      "  warnings.warn(\n"
     ]
    }
   ],
   "source": [
    "import pandas as pd\n",
    "import numpy\n",
    "import pickle\n",
    "from sklearn.preprocessing import MinMaxScaler\n",
    "\n",
    "# Carga el dataset procesado\n",
    "df = pd.read_csv('../../data/processed/features_for_model.csv')\n",
    "\n",
    "with open('../../artifacts/feature_eng_configs.pkl', 'rb') as f:\n",
    "    feature_eng_configs = pickle.load(f)\n",
    "\n",
    "with open('../../artifacts/mm_scaler.pkl', 'rb') as f:\n",
    "    mm_scaler = pickle.load(f)\n",
    "\n",
    "# Imputar valores en las columnas correspondientes\n",
    "cols_imputacion = [\"Glucose\", \"BloodPressure\", \"BMI\"]\n",
    "for col in cols_imputacion:\n",
    "    df[col] = df[col].replace(0, feature_eng_configs[f\"{col}_imputed_value\"]).astype(int)\n",
    "\n",
    "# Aplicar la estandarización a las características\n",
    "df_scaled = pd.DataFrame(mm_scaler.transform(df), columns=df.columns)\n",
    "\n",
    "# Verificación\n",
    "print(df_scaled.head())\n"
   ]
  },
  {
   "cell_type": "code",
   "execution_count": 2,
   "metadata": {},
   "outputs": [
    {
     "name": "stdout",
     "output_type": "stream",
     "text": [
      "(123, 6) (31, 6)\n"
     ]
    }
   ],
   "source": [
    "# Dividir el dataset en X (características) y y (target)\n",
    "X = df_scaled.drop('Outcome', axis=1)\n",
    "y = df_scaled['Outcome']\n",
    "\n",
    "# Dividir los datos en conjunto de entrenamiento y prueba (con los datos ya procesados)\n",
    "from sklearn.model_selection import train_test_split\n",
    "\n",
    "X_train, X_test, y_train, y_test = train_test_split(X, y, test_size=0.2, random_state=42)\n",
    "\n",
    "# Verificación\n",
    "print(X_train.shape, X_test.shape)"
   ]
  },
  {
   "cell_type": "code",
   "execution_count": 4,
   "metadata": {},
   "outputs": [
    {
     "name": "stdout",
     "output_type": "stream",
     "text": [
      "KNeighbors Classifier - Accuracy: 0.5483870967741935\n",
      "KNeighbors Classifier - Classification Report:\n",
      "               precision    recall  f1-score   support\n",
      "\n",
      "         0.0       0.54      0.94      0.68        16\n",
      "         1.0       0.67      0.13      0.22        15\n",
      "\n",
      "    accuracy                           0.55        31\n",
      "   macro avg       0.60      0.54      0.45        31\n",
      "weighted avg       0.60      0.55      0.46        31\n",
      "\n",
      "KNeighbors Classifier - Confusion Matrix:\n",
      " [[15  1]\n",
      " [13  2]]\n"
     ]
    }
   ],
   "source": [
    "from sklearn.neighbors import KNeighborsClassifier\n",
    "from sklearn.metrics import accuracy_score, classification_report, confusion_matrix\n",
    "\n",
    "# Crear el modelo\n",
    "model_knn = KNeighborsClassifier()\n",
    "\n",
    "# Entrenar el modelo\n",
    "model_knn.fit(X_train, y_train)\n",
    "\n",
    "# Realizar predicciones\n",
    "y_pred_knn = model_knn.predict(X_test)\n",
    "\n",
    "# Evaluar el modelo\n",
    "print(\"KNeighbors Classifier - Accuracy:\", accuracy_score(y_test, y_pred_knn))\n",
    "print(\"KNeighbors Classifier - Classification Report:\\n\", classification_report(y_test, y_pred_knn))\n",
    "print(\"KNeighbors Classifier - Confusion Matrix:\\n\", confusion_matrix(y_test, y_pred_knn))\n"
   ]
  },
  {
   "cell_type": "code",
   "execution_count": 5,
   "metadata": {},
   "outputs": [
    {
     "name": "stdout",
     "output_type": "stream",
     "text": [
      "KNN Config 1 - Accuracy: 0.5483870967741935\n",
      "KNN Config 2 - Accuracy: 0.5161290322580645\n"
     ]
    }
   ],
   "source": [
    "# Probar diferentes configuraciones para KNeighbors Classifier\n",
    "model_knn_1 = KNeighborsClassifier(n_neighbors=5)\n",
    "model_knn_1.fit(X_train, y_train)\n",
    "y_pred_knn_1 = model_knn_1.predict(X_test)\n",
    "print(\"KNN Config 1 - Accuracy:\", accuracy_score(y_test, y_pred_knn_1))\n",
    "\n",
    "model_knn_2 = KNeighborsClassifier(n_neighbors=10)\n",
    "model_knn_2.fit(X_train, y_train)\n",
    "y_pred_knn_2 = model_knn_2.predict(X_test)\n",
    "print(\"KNN Config 2 - Accuracy:\", accuracy_score(y_test, y_pred_knn_2))\n"
   ]
  },
  {
   "cell_type": "code",
   "execution_count": 6,
   "metadata": {},
   "outputs": [],
   "source": [
    "with open('../../artifacts/knn_model.pkl', 'wb') as f:\n",
    "    pickle.dump(model_knn, f)\n"
   ]
  }
 ],
 "metadata": {
  "kernelspec": {
   "display_name": "base",
   "language": "python",
   "name": "python3"
  },
  "language_info": {
   "codemirror_mode": {
    "name": "ipython",
    "version": 3
   },
   "file_extension": ".py",
   "mimetype": "text/x-python",
   "name": "python",
   "nbconvert_exporter": "python",
   "pygments_lexer": "ipython3",
   "version": "3.11.5"
  }
 },
 "nbformat": 4,
 "nbformat_minor": 2
}
